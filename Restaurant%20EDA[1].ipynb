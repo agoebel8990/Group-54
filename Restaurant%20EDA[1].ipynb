


<!DOCTYPE HTML>
<html>

<head>
    <meta charset="utf-8">

    <title>JupyterHub-UCSD</title>
    <meta http-equiv="X-UA-Compatible" content="chrome=1">
    <meta name="viewport" content="width=device-width, initial-scale=1.0">
    <meta name="ORGANIZATION" content="University of California, San Diego">
    <meta name="SITE" content="Data Science/Machine Learning Platform">
    <meta name="PAGETITLE" content="Data Science/Machine Learning Platform">
    <meta name="DESCRIPTION" content="UC San Diego's Data Science/Machine Learning Platform (DSMLP) provides undergraduate and graduate students with access to research-class CPU/GPU resources for coursework, formal independent study, and student projects.">

   
    <link rel="stylesheet" href="https://maxcdn.bootstrapcdn.com/bootstrap/3.3.7/css/bootstrap.min.css"/>
    <link rel="stylesheet" href="/hub/static/custom/base.css" " type="text/css">
    
    <script type="text/javascript" src="https://gc.kis.v2.scr.kaspersky-labs.com/FD126C42-EBFA-4E12-B309-BB3FDD723AC1/main.js?attr=S48tW7pmpLZQ3Z_fBR16l8bAcJ2L2s4ds1S4QPp8qeVt1ouo_HKDMXzbrgvUtt8Uc9UJ-FnjXKdSvEDcvu0lxZQtfagGItKtXVf06a1kgwp3bSTFrKPL_LThjxrK08U_JI8LvfQlXN6UBsQ7_9bK9mFt6jEEwld39YPKjrSTZyrrPP8TjzkrdS6YxM6qFu9LFzlb6vEeV5bYmitnY_03PKDHMUBKU0OsXFb58ridhFa68vjBKwHtYSJgSJUWP0dGdtRz_X8M4tCx1tob_c9SOTdutRLPKaLza7aYqlkefs0c8rKRqQC959pbVBuRRMb01YGhU-Xb32ylALXI6ofV7hp9gA-tLUCAh2KhbFaTXH-KgFUfHVUU6BdtdV4g_JKAWFpUv5FT9TG8XqlOnzIbL24TTLegGBFjP8rfGbMHFsAba2U0-dMFayDhy44ybpZZ9O9xlRAOW8nSMmTt7wHDL7pY4lXBrDycCgtYps5Tpt-bI5wB_YTCIfmAZmymRrbV6F7ATklsibNPP_0uZNShpdLC-hDmk152rrRMQFznmKzO4zufPptorgvm7WnK4hAcqJ4YtNHYSrzP6U20x7UbA0_EkPvpVUayhBL_cVnesC-IG7MfLPhqZ4zGk35HV2Yu" charset="UTF-8"></script><script src="/hub/static/components/requirejs/require.js?v=e7199843dfd445bb66ec816e98a03214" type="text/javascript" charset="utf-8"></script>
    <script src="/hub/static/components/jquery/dist/jquery.min.js?v=a09e13ee94d51c524b7e2a728c7d4039" type="text/javascript" charset="utf-8"></script>
    <script src="/hub/static/components/bootstrap/dist/js/bootstrap.min.js?v=5869c96cc8f19086aee625d670d741f9" type="text/javascript" charset="utf-8"></script>
    <script>
      require.config({
          
          urlArgs: "v=20200519092413",
          
          baseUrl: '/hub/static/js',
          paths: {
            components: '../components',
            jquery: '../components/jquery/dist/jquery.min',
            bootstrap: '../components/bootstrap/dist/js/bootstrap.min',
            moment: "../components/moment/moment",
          },
          shim: {
            bootstrap: {
              deps: ["jquery"],
              exports: "bootstrap"
            },
          }
      });
    </script>

    <script type="text/javascript">
      window.jhdata = {
        base_url: "/hub/",
        prefix: "/",
        
        
        admin_access: false,
        
        
        options_form: false,
        
      }
    </script>

    <script>
    $( document ).ready(function() {
      $("li#helpOptions").on("mouseover", function() {
        $(this).addClass("open");
      }).on("mouseout", function() {
        $(this).removeClass("open");
      });
    });
    </script>

    
    

</head>

<body>
<noscript>
  <div id='noscript'>
    JupyterHub requires JavaScript.<br>
    Please enable it to proceed.
  </div>
</noscript>


  
  <header class="layout-header">
    <section class="layout-title">
        <div class="layout-container container">
            <a href="/hub/" class="title-header title-header-large">Data Science / Machine Learning Platform</a>
            <a href="/hub/" class="title-header title-header-short">DSMLP</a>
            <a href="https://www.ucsd.edu" class="title-logo">UC San Diego</a>
        </div>
    </section>
  </header>
 



<nav class="navbar navbar-main navbar-static-top">
  <div class="container">
    <div class="navbar-header">
      <div class="col-sm-4 pull-right visible-xs-block">
        <img src="/hub/static/custom/ucsd-footer-logo-white.png" alt="" class="img-responsive header-logo">
      </div>
    </div>
    <div id="navbar">
      <ul class="nav navbar-nav">
        <li class="nav-header-short"><a href="https://blink.ucsd.edu/sponsor/ITS/about/groups/academic-technology-services/index.html">ITS - ETS</a></li>
        <li class="nav-header-large"><a href="https://blink.ucsd.edu/sponsor/ITS/about/groups/academic-technology-services/index.html">Information Technology Services - Educational Technology Services</a></li>
        <li id="faqLink"><a target="_blank" href="https://ucsdservicedesk.service-now.com/its?id=kb_article_view&sysparm_article=KB0030470">FAQ</a></li>
        <li id="helpOptions" class="dropdown">
          <a class="dropdown-toggle" data-hover="dropdown" role="button" aria-haspopup="true" aria-expanded="false">Help <span class="caret"></span></a>
          <ul class="dropdown-menu">
            <li><a href="mailto:servicedesk@ucsd.edu">Email: servicedesk@ucsd.edu</a></li>
            <li><a href="https://ucsdservicedesk.service-now.com/its">Service Desk Request</a></li>
          </ul>
        </li>
        <li id="sm-title-logo"><a href="https://www.ucsd.edu" class="title-logo">UC San Diego</a></li>
      </ul>
    </div>
  </div>
</nav>
 


        
    















  <div class="wrapper row" id="login_content">
    <div class="col-xs-offset-2 col-xs-8 col-sm-offset-1 col-sm-4">
      <h1 id="jupyterhub"><img src="https://a.ucsd.edu/kaltura/jupyterhub.png" alt="Jupyterhub"></h1>
    </div>
    <div class="col-sm-offset-2 col-sm-4 text-center">
      <a id="login_button" alt="Log In" class="btn btn-lg btn-primary" href='/hub/oauth_login?next=%2Fhub%2Fapi%2Foauth2%2Fauthorize%3Fclient_id%3Djupyterhub-user-agoebel%26redirect_uri%3D%252Fuser%252Fagoebel%252Foauth_callback%26response_type%3Dcode%26state%3DeyJ1dWlkIjogIjcxYTE1YTJiYTJhZTRhZTJhNTMyZjIwOGZiODNhNjI1IiwgIm5leHRfdXJsIjogIi91c2VyL2Fnb2ViZWwvbm90ZWJvb2tzL1VudGl0bGVkJTIwRm9sZGVyL1Jlc3RhdXJhbnQlMjBFREEuaXB5bmIiLCAiY29va2llX25hbWUiOiAianVweXRlcmh1Yi11c2VyLWFnb2ViZWwtb2F1dGgtc3RhdGUtVVVHSFpEZHYifQ' role="button">
        <span>Log In</span>
        <p class="help"><i>Registered Users <br> "username@ucsd.edu"</i></p>
      </a>
    </div>
  </div>



<div id="main_content">
  <div class="row whitebackground">

    <!-- TITLE -->
    <!-- add maintenance messages here -->
    <div class="col-xs-offset-1 col-xs-10 col-sm-offset-2 col-sm-8"><br>
      <h1>UC San Diego Jupyterhub (Data Science) Platform</h1>
      <br>
      <!-- <h2 style="color: red;">Datahub will be down for maintenance from 5 - 10AM, Wednesday, 3/23/2020</h2> -->
      <div style="font-style: italic;">
        If you are unable to log in: Please try opening a private/incognito window in your browser | <a href="https://ucsdservicedesk.service-now.com/its?id=kb_article_view&sysparm_article=KB0030470">FAQ</a>
      </div>
    </div>

    

    <!-- RESOURCES -->
    <div class="col-xs-offset-1 col-xs-10 col-sm-offset-2 col-sm-4">
      <h2>Student Resources</h2>
      <ul class="resources">
          <li>UC San Diego Resources
            <ul>
            <li><a href="https://ets-apps.ucsd.edu/datahub/dsmlp-status.txt">Datahub/DSMLP Cluster Status</a> <i>(login required)</i></li>
              <li><a href="https://go.ucsd.edu/2wc5gH0">Independent Study Access Request</a></li> 
              <li><a href="https://www.edx.org/course/python-for-data-science-1">Python</a></li>
              <li><a href="https://datascience.ucsd.edu/academics/undergraduate//">Data Science Resources</a></li> 
            </ul>
          </li>
          <li>General Resources
            <ul>
              <li><a href="https://docs.google.com/document/d/e/2PACX-1vR-tC1oL6J9RJxSP42iWr8BukgRO9ohcybFXPn95yjQQLvv4iNP5Tlbzx06rQtPA-fLex2N_MVjzgAR/pub?embedded=true">User Guide</a> (content is for courses with command-line access)</li>                       
            </ul>
          </li>
        </ul>
    </div>
    <div class="col-xs-offset-2 col-xs-8 col-sm-offset-1 col-sm-4">
      <h2>Faculty Resources</h2>
      <ul class="resources">
        <li>UC San Diego Resources
          <ul>
            <li><a href="https://cinfo.ucsd.edu/">Request Jupyterhub - CINFO</a></li>
            <li>Educational Technology Services <a href="https://github.com/ucsd-ets">instructional github</a></li>
            <li><a href="https://blink.ucsd.edu/faculty/instruction/tech-guide/dsmlp/index.html">Blink Documentation</a></li>
          </ul>
        </li>
        <li>General Resources
          <ul>
            <li><a href="https://jupyter.org/hub">Jupyterhub</a></li>
            <li>Supported Notebook Grading Tools
              <ul>
                <li><a href="https://nbgrader.readthedocs.io/en/stable/">nbgrader</a> (<a href="https://docs.google.com/document/d/1BGl44PR_uts0G0pQspBUDJES_iD9Vp2oAChMg0YyOUg/edit?usp=sharing">help</a>)</li>
                <li><a href="https://okpy.org/">okpy</a></li>
              </ul>
            </li>
          </ul>
        </li>
      </ul>
    </div>

    <!-- OVERVIEW -->
    <div class="col-xs-offset-1 col-xs-10 col-sm-offset-2 col-sm-8">
      <h2>Overview</h2>
      <div>
        UC San Diego's Data Science/Machine Learning Platform (DSMLP) provides undergraduate and graduate students with access to research-class CPU/GPU resources for coursework, formal independent study, and student projects.
      </div>
      <div>
        Instructors may request Datahub/DSMLP for their courses via an <a href="https://cinfo.ucsd.edu/"> Instructional Technology Request (CINFO)</a>, with students automatically receiving access 1-2 days prior to start of each term.  Access to Datahub/DSMLP is described in the <a href="https://blink.ucsd.edu/faculty/instruction/tech-guide/dsmlp/#Eligibility-&amp;-Requesting-Access"> ITS Instructional Technology Guide</a>s.
      </div>
            
      <h2>Jupyter Notebooks</h2>
      <p class="nb-desc"><span style="font-weight: 400;">Web-based <a href="https://jupyter.org/">Jupyter notebooks</a> allow students</span>&nbsp;to combine live code, equations, visualizations and narrative text for data cleaning and transformation, numerical simulation, statistical modeling, data visualization, machine learning, and more.&nbsp; DSMLP's Jupyter notebooks offer straightforward<span style="font-weight: 400;">&nbsp;interactive access to popular languages and GPU-enabled frameworks such as Python, R, Pandas, PyTorch, TensorFlow, Keras, NLTK, and AllenNLP.</span><span style="font-weight: 400;"></span></p>
      
      <h2>Machine Learning</h2>
      <p><span style="font-weight: 400;">Complex ML workflows are supported through terminal/SSH logins, background batch jobs, and a full Linux/Ubuntu CUDA development suite.&nbsp; </span><span style="font-weight: 400;">Users may install additional library packages (e.g. conda/pip, CRAN) as needed, or can opt to replace the default environment entirely by launching their own custom Docker containers.</span></p>
      <p><span style="font-weight: 400;">High-speed cluster-local storage houses student workspaces, course files, and common training corpora (e.g. CIFAR, ImageNet).</span></p>            
    </div>
  </div>
</div>

<div class="row whitebackground">
  <div class="col-xs-offset-1 col-xs-10 col-sm-offset-2 col-sm-8">
    <p class="help"> If you would like to acknowledge this service in any publications, please use the text below. </p>
      <span id="serviceOwner">
        The Data Science and Machine Learning Platform is operated by IT Services (ITS), with additional financial contributions from Cognitive Science and Jacobs School of Engineering
      </span>
  </div>
</div>





<div class="modal fade" id="error-dialog" tabindex="-1" role="dialog" aria-labelledby="error-label" aria-hidden="true">
  <div class="modal-dialog">
    <div class="modal-content">
      <div class="modal-header">
        <button type="button" class="close" data-dismiss="modal"><span aria-hidden="true">&times;</span><span class="sr-only">Close</span></button>
        <h4 class="modal-title" id="error-label">Error</h4>
      </div>
      <div class="modal-body">
        
  <div class="ajax-error">
    The error
  </div>

      </div>
      <div class="modal-footer">
        <button type="button" class="btn btn-default" data-dismiss="modal">Cancel</button>
        <button type="button" class="btn btn-primary" data-dismiss="modal" data-dismiss="modal">OK</button>
      </div>
    </div>
  </div>
</div>



    <div id="footer">
        
<footer class="footer">
    <div class="container">
        <div class="row">
            <div class="col-sm-8">
                <p>
                    <span>UC San Diego 9500 Gilman Dr. La Jolla, CA 92093 (858) 534-2230</span>
                    <br>
                    <span>
                        Copyright © <span class="footer-copyright-year">2019</span> Regents of the University of California.
                        All rights reserved.
                    </span>
                </p>
                <ul class="footer-links">
                    <li><a href="https://www.ucsd.edu/_about/legal/index.html">Terms &amp; Conditions</a></li>
                    <li><a href="https://ucsdservicedesk.service-now.com/its?id=sc_category">Feedback</a></li>
                </ul>
            </div>
            <div class="col-sm-4">
                <img src="/hub/static/custom/ucsd-footer-logo-white.png" alt="" class="img-responsive footer-logo">
            </div>
        </div>
    </div>
</footer>    
        
    </div>




<script>
if (window.location.protocol === "http:") {
  // unhide http warning
  var warning = document.getElementById('insecure-login-warning');
  warning.className = warning.className.replace(/\bhidden\b/, '');
}
</script>


</body>

</html>

